{
 "cells": [
  {
   "cell_type": "code",
   "execution_count": 2,
   "id": "40130e8c-cb95-4e7f-819e-7bf6d5c995c9",
   "metadata": {},
   "outputs": [],
   "source": [
    "import sys \n",
    "import os\n",
    "import pandas as pd\n",
    "import numpy as np \n",
    "import seaborn as sns"
   ]
  },
  {
   "cell_type": "code",
   "execution_count": 5,
   "id": "221ac3ab-bd88-4b04-aff3-2608f50700d9",
   "metadata": {},
   "outputs": [],
   "source": [
    "def prepare_df():\n",
    "    df = pd.read_csv('./FlirIr/individual_thermal_out/individual_temps.csv')\\\n",
    "        .set_index('plot')\\\n",
    "        .drop(['min_x', 'max_x', 'min_y', 'max_y', 'nw_lat', 'nw_lon', 'se_lat', 'se_lon'], axis=1)\n",
    "\n",
    "    fb = pd.read_csv('./Gantry_fieldbook_2020_Revised_Irr_TRT.csv')\\\n",
    "        .drop(['Experiment', 'SbEMS_ID', 'Harvest_Id', 'PI_check', 'Unnamed: 13', 'Unnamed: 14'], axis=1)\\\n",
    "        .set_index('Plot')\n",
    "\n",
    "    df = fb.join(df).dropna().convert_dtypes()\n",
    "    df['median'] = df['median'] - 273.15\n",
    "    \n",
    "    return df "
   ]
  },
  {
   "cell_type": "code",
   "execution_count": 6,
   "id": "b0d50547-33ce-4dd2-ba57-5caf8a2a8780",
   "metadata": {},
   "outputs": [],
   "source": [
    "df = prepare_df()"
   ]
  },
  {
   "cell_type": "code",
   "execution_count": 7,
   "id": "b8a4c919-8408-4da3-aff1-0494e843f7b8",
   "metadata": {},
   "outputs": [
    {
     "data": {
      "text/plain": [
       "<seaborn.axisgrid.FacetGrid at 0x7f42dc2935c0>"
      ]
     },
     "execution_count": 7,
     "metadata": {},
     "output_type": "execute_result"
    },
    {
     "data": {
      "image/png": "[encoded data removed]",
      "text/plain": [
       "<Figure size 360x360 with 1 Axes>"
      ]
     },
     "metadata": {
      "needs_background": "light"
     },
     "output_type": "display_data"
    }
   ],
   "source": [
    "g = sns.catplot(x='PI_accession',\n",
    "                y='median',\n",
    "                kind='box',\n",
    "                data=df)\n",
    "\n",
    "g.set_axis_labels( \"PI accession\" , \"Median temperature ($\\circ$C)\" )\n",
    "g.set_xticklabels(rotation=60)"
   ]
  },
  {
   "cell_type": "code",
   "execution_count": null,
   "id": "94f3a979-bd05-4cb7-a99b-b0f2b50b54fa",
   "metadata": {},
   "outputs": [],
   "source": []
  }
 ],
 "metadata": {
  "kernelspec": {
   "display_name": "Python 3",
   "language": "python",
   "name": "python3"
  },
  "language_info": {
   "codemirror_mode": {
    "name": "ipython",
    "version": 3
   },
   "file_extension": ".py",
   "mimetype": "text/x-python",
   "name": "python",
   "nbconvert_exporter": "python",
   "pygments_lexer": "ipython3",
   "version": "3.6.9"
  }
 },
 "nbformat": 4,
 "nbformat_minor": 5
}
